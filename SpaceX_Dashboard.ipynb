{
 "cells": [
  {
   "cell_type": "markdown",
   "id": "7caf698e",
   "metadata": {},
   "source": [
    "# Build a Dashboard Application with Plotly Dash\n",
    "\n",
    "In this lab, we will be building a Plotly Dash application for users to perform interactive visual analytics on SpaceX launch data in real-time.\n",
    "\n",
    "This dashboard application contains input components such as a dropdown list and a range slider to interact with a pie chart and a scatter point chart. We will be guided to build this dashboard application via the following tasks:\n",
    "\n",
    "* TASK 1: Add a Launch Site Drop-down Input Component\n",
    "* TASK 2: Add a callback function to render **success-pie-chart** based on selected site dropdown\n",
    "* TASK 3: Add a Range Slider to Select Payload\n",
    "* TASK 4: Add a callback function to render the **success-payload-scatter-chart** scatter plot"
   ]
  },
  {
   "cell_type": "markdown",
   "id": "41cf5809",
   "metadata": {},
   "source": [
    "After visual analysis using the dashboard, we should be able to obtain some insights to answer the following five questions:\n",
    "\n",
    "1. Which site has the largest successful launches?\n",
    "1. Which site has the highest launch success rate?\n",
    "1. Which payload range(s) has the highest launch success rate?\n",
    "1. Which payload range(s) has the lowest launch success rate?\n",
    "1. Which F9 Booster version (v1.0, v1.1, FT, B4, B5, etc.) has the highest launch success rate?\n",
    "\n",
    "Estimated time needed: **90 minutes**\n",
    "\n"
   ]
  },
  {
   "cell_type": "code",
   "execution_count": 1,
   "id": "d49c3b04",
   "metadata": {},
   "outputs": [],
   "source": [
    "# Import required libraries\n",
    "import pandas as pd\n",
    "import dash\n",
    "from dash import html\n",
    "from dash import dcc\n",
    "from dash.dependencies import Input, Output\n",
    "import plotly.express as px\n",
    "import wget"
   ]
  },
  {
   "cell_type": "markdown",
   "id": "243351a3",
   "metadata": {},
   "source": [
    " Download a skeleton dashboard application and dataset"
   ]
  },
  {
   "cell_type": "code",
   "execution_count": 2,
   "id": "388a655f",
   "metadata": {},
   "outputs": [],
   "source": [
    "# Uncomment the following cell to get download skeleton app and dataset:\n",
    "\n",
    "# spacex_dataset = wget.download(\"https://cf-courses-data.s3.us.cloud-object-storage.appdomain.cloud/IBM-DS0321EN-SkillsNetwork/datasets/spacex_launch_dash.csv\")\n",
    "# spacex_dash_app = wget.download(\"https://cf-courses-data.s3.us.cloud-object-storage.appdomain.cloud/IBM-DS0321EN-SkillsNetwork/labs/module_3/spacex_dash_app.py\")"
   ]
  },
  {
   "cell_type": "markdown",
   "id": "a7f612a2",
   "metadata": {},
   "source": [
    "Complete tasks in the dashboard:"
   ]
  },
  {
   "cell_type": "code",
   "execution_count": 5,
   "id": "0c6fca7b",
   "metadata": {
    "scrolled": true
   },
   "outputs": [
    {
     "name": "stdout",
     "output_type": "stream",
     "text": [
      "Dash is running on http://127.0.0.1:8050/\n",
      "\n",
      "Dash is running on http://127.0.0.1:8050/\n",
      "\n",
      "Dash is running on http://127.0.0.1:8050/\n",
      "\n",
      " * Serving Flask app '__main__' (lazy loading)\n",
      " * Environment: production\n",
      "\u001b[31m   WARNING: This is a development server. Do not use it in a production deployment.\u001b[0m\n",
      "\u001b[2m   Use a production WSGI server instead.\u001b[0m\n",
      " * Debug mode: off\n"
     ]
    },
    {
     "name": "stderr",
     "output_type": "stream",
     "text": [
      " * Running on http://127.0.0.1:8050/ (Press CTRL+C to quit)\n",
      "127.0.0.1 - - [19/Mar/2022 16:47:31] \"GET / HTTP/1.1\" 200 -\n",
      "127.0.0.1 - - [19/Mar/2022 16:47:31] \"GET /_dash-layout HTTP/1.1\" 200 -\n",
      "127.0.0.1 - - [19/Mar/2022 16:47:31] \"GET /_dash-dependencies HTTP/1.1\" 200 -\n",
      "127.0.0.1 - - [19/Mar/2022 16:47:32] \"GET /_favicon.ico?v=2.3.0 HTTP/1.1\" 200 -\n",
      "127.0.0.1 - - [19/Mar/2022 16:47:32] \"GET /_dash-component-suites/dash/dcc/async-dropdown.js HTTP/1.1\" 200 -\n",
      "127.0.0.1 - - [19/Mar/2022 16:47:32] \"GET /_dash-component-suites/dash/dcc/async-graph.js HTTP/1.1\" 200 -\n",
      "127.0.0.1 - - [19/Mar/2022 16:47:32] \"GET /_dash-component-suites/dash/dcc/async-slider.js HTTP/1.1\" 200 -\n",
      "127.0.0.1 - - [19/Mar/2022 16:47:32] \"GET /_dash-component-suites/dash/dcc/async-plotlyjs.js HTTP/1.1\" 200 -\n",
      "127.0.0.1 - - [19/Mar/2022 16:47:32] \"POST /_dash-update-component HTTP/1.1\" 200 -\n",
      "127.0.0.1 - - [19/Mar/2022 16:47:32] \"POST /_dash-update-component HTTP/1.1\" 200 -\n",
      "127.0.0.1 - - [19/Mar/2022 16:47:32] \"POST /_dash-update-component HTTP/1.1\" 200 -\n"
     ]
    }
   ],
   "source": [
    "# Read the airline data into pandas dataframe\n",
    "spacex_df = pd.read_csv(\"spacex_launch_dash.csv\")\n",
    "max_payload = spacex_df['Payload Mass (kg)'].max()\n",
    "min_payload = spacex_df['Payload Mass (kg)'].min()\n",
    "\n",
    "# Create a dash application\n",
    "app = dash.Dash(__name__)\n",
    "server = app.server\n",
    "\n",
    "# Create an app layout\n",
    "\n",
    "app.layout = html.Div(children=[html.H1('SpaceX Launch Records Dashboard',\n",
    "                                        style={'textAlign': 'center', 'color': '#503D36',\n",
    "                                               'font-size': 40}),\n",
    "                                html.P(\"Created by Molo Munyansanga\", style={'textAlign': 'center'}),\n",
    "                                \n",
    "                                # TASK 1: Add a dropdown list to enable Launch Site selection\n",
    "                                # The default select value is for ALL sites\n",
    "                                # dcc.Dropdown(id='site-dropdown',...)\n",
    "                                dcc.Dropdown(id='site-dropdown',\n",
    "                                                options=[\n",
    "                                                    {'label': 'All Sites', 'value': 'ALL'},\n",
    "                                                    {'label': 'CCAFS LC-40', 'value': 'CCAFS LC-40'},\n",
    "                                                    {'label': 'VAFB SLC-4E', 'value': 'VAFB SLC-4E'},\n",
    "                                                    {'label': 'KSC LC-39A', 'value': 'KSC LC-39A'},\n",
    "                                                    {'label': 'CCAFS SLC-40', 'value': 'CCAFS SLC-40'},\n",
    "                                                ],\n",
    "                                                value='ALL',\n",
    "                                                placeholder=\"Select a Launch Site here\",\n",
    "                                                searchable=True\n",
    "                                                ),\n",
    "\n",
    "                                html.Br(),\n",
    "\n",
    "                                # Task 2: Add a pie chart to show the total successful launches count for all sites\n",
    "                                # If a specific launch site was selected,\n",
    "                                # show the Success vs. Failed counts for the site\n",
    "                                html.Div(dcc.Graph(id='success-pie-chart')),\n",
    "                                html.Br(),\n",
    "\n",
    "                                # Add payload mass slider text\n",
    "                                html.P(id=\"slider-text\"),\n",
    "                                \n",
    "                                # TASK 3: Add a slider to select payload range\n",
    "                                # dcc.RangeSlider(id='payload-slider',...)\n",
    "                                dcc.RangeSlider(id='payload-slider',\n",
    "                                                min=0, max=10000, step=1000,\n",
    "                                                marks={0: '0', 2500: '2500', 5000: '5000', 7500: '7500',\n",
    "                                                       10000: '10000'},\n",
    "                                                value=[min_payload, max_payload]),\n",
    "\n",
    "                                # TASK 4: Add a scatter chart to show the correlation between payload and launch success\n",
    "                                html.Div(dcc.Graph(id='success-payload-scatter-chart'))\n",
    "                                ])\n",
    "\n",
    "\n",
    "# TASK 2:\n",
    "# Add a callback function for `site-dropdown` as input, `success-pie-chart` as output\n",
    "@app.callback(Output(component_id='success-pie-chart', component_property='figure'),\n",
    "              Input(component_id='site-dropdown', component_property='value'))\n",
    "def get_pie_chart(entered_site):\n",
    "    filtered_df = spacex_df\n",
    "    if entered_site == 'ALL':\n",
    "        fig = px.pie(filtered_df, values='class', names='Launch Site', title='Total Successful Launches By Site')\n",
    "        return fig\n",
    "    else:\n",
    "        # return the outcomes piechart for a selected site\n",
    "        site_chosen = entered_site\n",
    "        mask = filtered_df['Launch Site'] == site_chosen\n",
    "        fig = px.pie(filtered_df[mask], names='class',\n",
    "                     title=f'Total Successful Launches For Site {site_chosen}')\n",
    "        return fig\n",
    "\n",
    "\n",
    "# TASK 4:\n",
    "# Add a callback function for `site-dropdown` and `payload-slider` as inputs, `success-payload-scatter-chart` as output\n",
    "@app.callback(Output(component_id='success-payload-scatter-chart', component_property='figure'),\n",
    "              Input(component_id='site-dropdown', component_property='value'),\n",
    "              [Input(component_id='payload-slider', component_property='value')])\n",
    "def get_scatter_chart(entered_site, mass):\n",
    "\n",
    "    # filter masses from payload slider\n",
    "    mass_1 = spacex_df['Payload Mass (kg)'] >= float(mass[0])\n",
    "    mass_2 = spacex_df['Payload Mass (kg)'] <= float(mass[1])\n",
    "    \n",
    "    filtered_df = spacex_df[mass_1][mass_2]\n",
    "    \n",
    "    if entered_site == 'ALL':\n",
    "\n",
    "        fig = px.scatter(filtered_df, x='Payload Mass (kg)', y='class', color=\"Booster Version Category\",\n",
    "                         title=f'Correlation between Payload Mass and Launch Success for All Sites for Payload Mass(kg) Between {mass[0]} and {mass[1]}')\n",
    "        return fig\n",
    "    else:\n",
    "        \n",
    "        # return the outcomes scatter chart for a selected site\n",
    "        site_chosen = entered_site\n",
    "        mask = filtered_df['Launch Site'] == site_chosen\n",
    "        fig = px.scatter(filtered_df[mask], x='Payload Mass (kg)', y='class', color=\"Booster Version Category\",\n",
    "                         title=f'Correlation between Payload Mass and Launch Success for Site {site_chosen}')\n",
    "        return fig\n",
    "    \n",
    "    \n",
    "#function to return payload_mass success_rate\n",
    "@app.callback(Output('slider-text', 'children'),\n",
    "              [Input(component_id='payload-slider', component_property='value')])\n",
    "def get_success_rate(mass):\n",
    "\n",
    "    # filter masses from payload slider\n",
    "    mass_1 = spacex_df['Payload Mass (kg)'] >= float(mass[0])\n",
    "    mass_2 = spacex_df['Payload Mass (kg)'] <= float(mass[1])\n",
    "    \n",
    "    filtered_df = spacex_df[mass_1][mass_2]\n",
    "    \n",
    "    # find success rate\n",
    "    rate = (filtered_df['class'].value_counts().loc[1])/filtered_df['class'].value_counts().sum() * 100\n",
    "    rate = 'Payload range (Kg): ' + str(round(rate, 2)) + '% Success Rate'\n",
    "    \n",
    "    return rate\n",
    "    \n",
    "    \n",
    "# Run the app\n",
    "if __name__ == '__main__':\n",
    "    app.run_server()"
   ]
  },
  {
   "cell_type": "markdown",
   "id": "4bd2762a",
   "metadata": {},
   "source": [
    "### Dashboard Deployed:\n",
    "\n",
    "You can view the dashboard on the following link: [spacex-dashboard](https://spacex-capstone-dashboard.herokuapp.com/)"
   ]
  },
  {
   "cell_type": "markdown",
   "id": "e3d07521",
   "metadata": {},
   "source": [
    "##### Observations:\n",
    "\n",
    "* Site **KSC LC-39A** has the largest successful launches as well the highest launch success rate.\n",
    "* It appears that the payload range between 2000 kg and 4000 kg has the highest success rate.\n",
    "* It also seems like the launch success rate is dramatically low between the payload range of 0kg and 2500kg. Perhaps very low masses decrease launch success.\n",
    "* The booster version **FT**, seems to have a higher success rate than other booster versions"
   ]
  },
  {
   "cell_type": "markdown",
   "id": "103b311e",
   "metadata": {},
   "source": [
    "## Authors\n"
   ]
  },
  {
   "cell_type": "markdown",
   "id": "057e7afe",
   "metadata": {},
   "source": [
    "<a href=\"https://www.linkedin.com/in/molomunyansanga/\">Molo Munyansanga</a> is a Data Science enthusiast with certificates in Statistics, Databases and Machine Learning. He is also enrolled in the Data Science Professional Certification program by IBM."
   ]
  },
  {
   "cell_type": "markdown",
   "id": "fe167297",
   "metadata": {},
   "source": [
    "## Change Log\n"
   ]
  },
  {
   "cell_type": "markdown",
   "id": "6fb33141",
   "metadata": {},
   "source": [
    "| Date (YYYY-MM-DD) | Version | Changed By    | Change Description      |\n",
    "| ----------------- | ------- | ------------- | ----------------------- |\n",
    "| 2022-03-19        | ------  | Molo. M       | Created Notebook and Completed Tasks      |"
   ]
  }
 ],
 "metadata": {
  "kernelspec": {
   "display_name": "Python 3 (ipykernel)",
   "language": "python",
   "name": "python3"
  },
  "language_info": {
   "codemirror_mode": {
    "name": "ipython",
    "version": 3
   },
   "file_extension": ".py",
   "mimetype": "text/x-python",
   "name": "python",
   "nbconvert_exporter": "python",
   "pygments_lexer": "ipython3",
   "version": "3.9.6"
  }
 },
 "nbformat": 4,
 "nbformat_minor": 5
}
